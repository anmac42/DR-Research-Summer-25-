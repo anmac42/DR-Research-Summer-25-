{
 "cells": [
  {
   "cell_type": "markdown",
   "metadata": {},
   "source": [
    "Jakob Balkovec, Mon Jun 23 2025"
   ]
  },
  {
   "cell_type": "markdown",
   "metadata": {},
   "source": [
    "## Lesion Parser\n",
    "\n",
    "This notebook demo-es all the features of the `LesionXMLParser` implementation. Feel free to build on top of it, or change/tailor some functionality to fit your use case."
   ]
  },
  {
   "cell_type": "code",
   "execution_count": 1,
   "metadata": {},
   "outputs": [],
   "source": [
    "import sys\n",
    "import os\n",
    "\n",
    "notebook_dir = os.getcwd()\n",
    "parent_dir = os.path.abspath(os.path.join(notebook_dir, \"..\"))\n",
    "sys.path.append(parent_dir)\n"
   ]
  },
  {
   "cell_type": "code",
   "execution_count": 2,
   "metadata": {},
   "outputs": [],
   "source": [
    "from lesion_parser import LesionXMLParser\n",
    "import json\n",
    "from utils import parse_txt_file\n",
    "from config import VALID_LESION_TYPES\n"
   ]
  },
  {
   "cell_type": "markdown",
   "metadata": {},
   "source": [
    "> The `parse_txt_file` function can be found in `XMLparser/utils.py`.\n",
    "\n",
    "> The `VALID_LESION_TYPES` constant is defined in `XMLparser/config.py`."
   ]
  },
  {
   "cell_type": "markdown",
   "metadata": {},
   "source": [
    "## Initializing the Parser With a Single File"
   ]
  },
  {
   "cell_type": "code",
   "execution_count": 3,
   "metadata": {},
   "outputs": [
    {
     "data": {
      "text/plain": [
       "[{'image_path': None,\n",
       "  'image_id': None,\n",
       "  'xml_file': 'diaretdb1_image001_01_plain.xml',\n",
       "  'type': 'Hard_exudates',\n",
       "  'x': 713.0,\n",
       "  'y': 532.0,\n",
       "  'radius': 141.0},\n",
       " {'image_path': None,\n",
       "  'image_id': None,\n",
       "  'xml_file': 'diaretdb1_image001_01_plain.xml',\n",
       "  'type': 'Haemorrhages',\n",
       "  'x': 493.0,\n",
       "  'y': 647.0,\n",
       "  'radius': 5.0}]"
      ]
     },
     "execution_count": 3,
     "metadata": {},
     "output_type": "execute_result"
    }
   ],
   "source": [
    "single_file_parser = LesionXMLParser([\"groundtruth/diaretdb1_image001_01_plain.xml\"], root_dir=\"../data\")\n",
    "single_file_parser.parse()[:2]\n"
   ]
  },
  {
   "cell_type": "markdown",
   "metadata": {},
   "source": [
    "I designed the constructor to accept either a list of XML file paths or a list of dictionaries where each entry maps an image to its corresponding XML files. I think this is the cleanest and most flexible approach, but I’m open to suggestions if you see a better way.\n",
    "\n",
    "#### Supported Input Formats:\n",
    "\n",
    "**List of XML paths:**\n",
    "\n",
    "```python\n",
    "[\"groundtruth/file1.xml\", \"groundtruth/file2.xml\", ...]\n",
    "```\n",
    "\n",
    "**List of dictionaries (image + associated XMLs):**\n",
    "```python\n",
    "[\n",
    "  {\n",
    "    \"image\": \"images/image001.png\",\n",
    "    \"xmls\": [\n",
    "      \"groundtruth/image001_01.xml\",\n",
    "      \"groundtruth/image001_02.xml\"\n",
    "    ]\n",
    "  },\n",
    "  ...\n",
    "]\n",
    "```\n",
    "\n",
    "> This makes it a little awkward when passing in a **single** file, since it has to be a `list` or `dict` of one item...\n",
    "\n",
    "You’ll see later why I went with this approach, the idea was to allow passing in all the XML files up front, parse everything in one go, and then export the results as a container like a `pandas.DataFrame` or `numpy` array. This way, you can immediately take advantage of built-in functionality for filtering, sorting, and other operations without extra steps...\n",
    "\n"
   ]
  },
  {
   "cell_type": "markdown",
   "metadata": {},
   "source": [
    "## Initalizing the Parser With a List of Files"
   ]
  },
  {
   "cell_type": "code",
   "execution_count": 4,
   "metadata": {},
   "outputs": [
    {
     "data": {
      "text/plain": [
       "[{'image_path': None,\n",
       "  'image_id': None,\n",
       "  'xml_file': 'diaretdb1_image001_01_plain.xml',\n",
       "  'type': 'Haemorrhages',\n",
       "  'x': 978.0,\n",
       "  'y': 354.0,\n",
       "  'radius': 5.0},\n",
       " {'image_path': None,\n",
       "  'image_id': None,\n",
       "  'xml_file': 'diaretdb1_image001_01_plain.xml',\n",
       "  'type': 'Haemorrhages',\n",
       "  'x': 618.0,\n",
       "  'y': 94.0,\n",
       "  'radius': 5.0}]"
      ]
     },
     "execution_count": 4,
     "metadata": {},
     "output_type": "execute_result"
    }
   ],
   "source": [
    "list_of_files = [\"groundtruth/diaretdb1_image001_01_plain.xml\",\n",
    "                 \"groundtruth/diaretdb1_image001_02_plain.xml\",\n",
    "                 \"groundtruth/diaretdb1_image001_03_plain.xml\",\n",
    "                 \"groundtruth/diaretdb1_image001_04_plain.xml\"]\n",
    "\n",
    "list_of_files_parser = LesionXMLParser(list_of_files, root_dir=\"../data\")\n",
    "list_of_files_parser.parse()[2:4]\n"
   ]
  },
  {
   "cell_type": "markdown",
   "metadata": {},
   "source": [
    "Same thing as before, but now we pass in a list of XML files. This (alongside the `dict` \"mode\"), I think will is the most common use case. Here we pass in a list of all XML file associated with `diaretdb1_image001.png`. I clipped the output for brevity."
   ]
  },
  {
   "cell_type": "markdown",
   "metadata": {},
   "source": [
    "## Initializing the Parser With a Dictionary"
   ]
  },
  {
   "cell_type": "code",
   "execution_count": 5,
   "metadata": {},
   "outputs": [
    {
     "name": "stdout",
     "output_type": "stream",
     "text": [
      "[\n",
      "  {\n",
      "    \"image\": \"images/diaretdb1_image002.png\",\n",
      "    \"xmls\": [\n",
      "      \"groundtruth/diaretdb1_image002_01_plain.xml\",\n",
      "      \"groundtruth/diaretdb1_image002_02_plain.xml\",\n",
      "      \"groundtruth/diaretdb1_image002_03_plain.xml\",\n",
      "      \"groundtruth/diaretdb1_image002_04_plain.xml\"\n",
      "    ]\n",
      "  },\n",
      "  {\n",
      "    \"image\": \"images/diaretdb1_image005.png\",\n",
      "    \"xmls\": [\n",
      "      \"groundtruth/diaretdb1_image005_01_plain.xml\",\n",
      "      \"groundtruth/diaretdb1_image005_02_plain.xml\",\n",
      "      \"groundtruth/diaretdb1_image005_03_plain.xml\",\n",
      "      \"groundtruth/diaretdb1_image005_04_plain.xml\"\n",
      "    ]\n",
      "  }\n",
      "]\n"
     ]
    }
   ],
   "source": [
    "data_txt = r\"../data/ddb1_v02_01_test_plain.txt\"\n",
    "parsed_text_input = parse_txt_file(data_txt)\n",
    "\n",
    "print(json.dumps(parsed_text_input[:2], indent=2))\n"
   ]
  },
  {
   "cell_type": "markdown",
   "metadata": {},
   "source": [
    "> Note: The `\"image\"` field is pulled from the input, not the actual image file. For example:\n",
    "\n",
    "      \"xml path\": groundtruth/diaretdb1_image005_01_plain.xml\",\n",
    "        -> \"image\": \"diaretdb1_image005.png\""
   ]
  },
  {
   "cell_type": "code",
   "execution_count": 14,
   "metadata": {},
   "outputs": [
    {
     "data": {
      "text/plain": [
       "[{'image_path': 'images/diaretdb1_image002.png',\n",
       "  'image_id': 'diaretdb1_image002',\n",
       "  'xml_file': 'diaretdb1_image002_01_plain.xml',\n",
       "  'type': 'Haemorrhages',\n",
       "  'x': 570.0,\n",
       "  'y': 805.0,\n",
       "  'radius': 16.0},\n",
       " {'image_path': 'images/diaretdb1_image002.png',\n",
       "  'image_id': 'diaretdb1_image002',\n",
       "  'xml_file': 'diaretdb1_image002_01_plain.xml',\n",
       "  'type': 'Haemorrhages',\n",
       "  'x': 669.0,\n",
       "  'y': 685.0,\n",
       "  'radius': 20.0}]"
      ]
     },
     "execution_count": 14,
     "metadata": {},
     "output_type": "execute_result"
    }
   ],
   "source": [
    "dict_parser = LesionXMLParser(xml_input=parsed_text_input, root_dir=\"../data\")\n",
    "parsed = dict_parser.parse()\n",
    "parsed[:2]\n"
   ]
  },
  {
   "cell_type": "markdown",
   "metadata": {},
   "source": [
    "Again, same thing as before, only now, we're initializing the `LesionXMLParser` with a dictionary. Note that the dictionary was obtained from the `parse_txt_file` function, which reads a text file containing the image and XML paths.\n",
    "\n",
    "\n",
    "**As shown above:**\n",
    "```python\n",
    "{\n",
    "  \"image\": \"diaretdb1_image005.png\",\n",
    "  \"xmls\": [\n",
    "    \"groundtruth/diaretdb1_image005_01_plain.xml\",\n",
    "    \"groundtruth/diaretdb1_image005_02_plain.xml\"\n",
    "  ]\n",
    "}\n",
    "```"
   ]
  },
  {
   "cell_type": "markdown",
   "metadata": {},
   "source": [
    "## Formatting the Output\n",
    "\n",
    "As mentioned above, the parser is designed to return 4 types of output:\n",
    "  - Pandas DataFrame\n",
    "  - Numpy array\n",
    "  - JSON\n",
    "  - Dictionary\n",
    "  - Raw python list (if `.to_format()` is never invoked)\n"
   ]
  },
  {
   "cell_type": "markdown",
   "metadata": {},
   "source": [
    "### Pandas DataFrame"
   ]
  },
  {
   "cell_type": "code",
   "execution_count": 7,
   "metadata": {},
   "outputs": [
    {
     "data": {
      "text/html": [
       "<div>\n",
       "<style scoped>\n",
       "    .dataframe tbody tr th:only-of-type {\n",
       "        vertical-align: middle;\n",
       "    }\n",
       "\n",
       "    .dataframe tbody tr th {\n",
       "        vertical-align: top;\n",
       "    }\n",
       "\n",
       "    .dataframe thead th {\n",
       "        text-align: right;\n",
       "    }\n",
       "</style>\n",
       "<table border=\"1\" class=\"dataframe\">\n",
       "  <thead>\n",
       "    <tr style=\"text-align: right;\">\n",
       "      <th></th>\n",
       "      <th>image_path</th>\n",
       "      <th>image_id</th>\n",
       "      <th>xml_file</th>\n",
       "      <th>type</th>\n",
       "      <th>x</th>\n",
       "      <th>y</th>\n",
       "      <th>radius</th>\n",
       "    </tr>\n",
       "  </thead>\n",
       "  <tbody>\n",
       "    <tr>\n",
       "      <th>0</th>\n",
       "      <td>images/diaretdb1_image002.png</td>\n",
       "      <td>diaretdb1_image002</td>\n",
       "      <td>diaretdb1_image002_01_plain.xml</td>\n",
       "      <td>Haemorrhages</td>\n",
       "      <td>570.0</td>\n",
       "      <td>805.0</td>\n",
       "      <td>16.0</td>\n",
       "    </tr>\n",
       "    <tr>\n",
       "      <th>1</th>\n",
       "      <td>images/diaretdb1_image002.png</td>\n",
       "      <td>diaretdb1_image002</td>\n",
       "      <td>diaretdb1_image002_01_plain.xml</td>\n",
       "      <td>Haemorrhages</td>\n",
       "      <td>669.0</td>\n",
       "      <td>685.0</td>\n",
       "      <td>20.0</td>\n",
       "    </tr>\n",
       "    <tr>\n",
       "      <th>2</th>\n",
       "      <td>images/diaretdb1_image002.png</td>\n",
       "      <td>diaretdb1_image002</td>\n",
       "      <td>diaretdb1_image002_01_plain.xml</td>\n",
       "      <td>Haemorrhages</td>\n",
       "      <td>811.0</td>\n",
       "      <td>733.0</td>\n",
       "      <td>48.0</td>\n",
       "    </tr>\n",
       "    <tr>\n",
       "      <th>3</th>\n",
       "      <td>images/diaretdb1_image002.png</td>\n",
       "      <td>diaretdb1_image002</td>\n",
       "      <td>diaretdb1_image002_01_plain.xml</td>\n",
       "      <td>Haemorrhages</td>\n",
       "      <td>895.0</td>\n",
       "      <td>700.0</td>\n",
       "      <td>5.0</td>\n",
       "    </tr>\n",
       "    <tr>\n",
       "      <th>4</th>\n",
       "      <td>images/diaretdb1_image002.png</td>\n",
       "      <td>diaretdb1_image002</td>\n",
       "      <td>diaretdb1_image002_01_plain.xml</td>\n",
       "      <td>Haemorrhages</td>\n",
       "      <td>1054.0</td>\n",
       "      <td>716.0</td>\n",
       "      <td>5.0</td>\n",
       "    </tr>\n",
       "  </tbody>\n",
       "</table>\n",
       "</div>"
      ],
      "text/plain": [
       "                      image_path            image_id  \\\n",
       "0  images/diaretdb1_image002.png  diaretdb1_image002   \n",
       "1  images/diaretdb1_image002.png  diaretdb1_image002   \n",
       "2  images/diaretdb1_image002.png  diaretdb1_image002   \n",
       "3  images/diaretdb1_image002.png  diaretdb1_image002   \n",
       "4  images/diaretdb1_image002.png  diaretdb1_image002   \n",
       "\n",
       "                          xml_file          type       x      y  radius  \n",
       "0  diaretdb1_image002_01_plain.xml  Haemorrhages   570.0  805.0    16.0  \n",
       "1  diaretdb1_image002_01_plain.xml  Haemorrhages   669.0  685.0    20.0  \n",
       "2  diaretdb1_image002_01_plain.xml  Haemorrhages   811.0  733.0    48.0  \n",
       "3  diaretdb1_image002_01_plain.xml  Haemorrhages   895.0  700.0     5.0  \n",
       "4  diaretdb1_image002_01_plain.xml  Haemorrhages  1054.0  716.0     5.0  "
      ]
     },
     "execution_count": 7,
     "metadata": {},
     "output_type": "execute_result"
    }
   ],
   "source": [
    "pandas_df = dict_parser.to_format(\"pandas\")\n",
    "pandas_df.head()\n"
   ]
  },
  {
   "cell_type": "markdown",
   "metadata": {},
   "source": [
    "### CSV String"
   ]
  },
  {
   "cell_type": "code",
   "execution_count": 8,
   "metadata": {},
   "outputs": [
    {
     "name": "stdout",
     "output_type": "stream",
     "text": [
      "image_path,image_id,xml_file,type,x,y,radius\n",
      "images/diaretdb1_image002.png,diaretdb1_image002,diaretdb1_image002_01_plain.xml,Haemorrhages,570.0,805.0,16.0\n",
      "images/diaretdb1_image002.png,diaretdb1_image002,diaretdb1_image002_01_plain.xml,Haemorrhages,669.0,685.0,20.0\n",
      "images/diaretdb1_image002.png,diaretdb1_image002,diaretdb1_image002_01_plain.xml,Haemorrhages,811.0,733.0,48.0\n",
      "images/diaretdb1_image002.png,diaretdb1_image002,diaretdb1_image002_01_plain.xml,Haemorrhages,895.0,700.0,5.0\n",
      "\n"
     ]
    }
   ],
   "source": [
    "csv_string = dict_parser.to_format(\"csv\")\n",
    "print(csv_string[:488])  # 488 works out to 4 entries + labels\n"
   ]
  },
  {
   "cell_type": "markdown",
   "metadata": {},
   "source": [
    "### JSON String"
   ]
  },
  {
   "cell_type": "code",
   "execution_count": 9,
   "metadata": {},
   "outputs": [
    {
     "name": "stdout",
     "output_type": "stream",
     "text": [
      "[\n",
      "  {\n",
      "    \"image_path\": \"images/diaretdb1_image002.png\",\n",
      "    \"image_id\": \"diaretdb1_image002\",\n",
      "    \"xml_file\": \"diaretdb1_image002_01_plain.xml\",\n",
      "    \"type\": \"Haemorrhages\",\n",
      "    \"x\": 570.0,\n",
      "    \"y\": 805.0,\n",
      "    \"radius\": 16.0\n",
      "  },\n",
      "  {\n",
      "    \"image_path\": \"images/diaretdb1_image002.png\",\n",
      "    \"image_id\": \"diaretdb1_image002\",\n",
      "    \"xml_file\": \"diaretdb1_image002_01_plain.xml\",\n",
      "    \"type\": \"Haemorrhages\",\n",
      "    \"x\": 669.0,\n",
      "    \"y\": 685.0,\n",
      "    \"radius\": 20.0\n",
      "  },\n",
      "  \n"
     ]
    }
   ],
   "source": [
    "json_string = dict_parser.to_format(\"json\")\n",
    "print(json_string[:460]) # 460 works out to 2 entries\n"
   ]
  },
  {
   "cell_type": "markdown",
   "metadata": {},
   "source": [
    "### Numpy Array"
   ]
  },
  {
   "cell_type": "code",
   "execution_count": 10,
   "metadata": {},
   "outputs": [
    {
     "name": "stdout",
     "output_type": "stream",
     "text": [
      "[['images/diaretdb1_image002.png' 'diaretdb1_image002'\n",
      "  'diaretdb1_image002_01_plain.xml' 'Haemorrhages' 570.0 805.0 16.0]\n",
      " ['images/diaretdb1_image002.png' 'diaretdb1_image002'\n",
      "  'diaretdb1_image002_01_plain.xml' 'Haemorrhages' 669.0 685.0 20.0]]\n"
     ]
    }
   ],
   "source": [
    "numpy_array = dict_parser.to_format(\"numpy\")\n",
    "print(numpy_array[:2])\n"
   ]
  },
  {
   "cell_type": "markdown",
   "metadata": {},
   "source": [
    "## Saving the Output\n",
    "\n",
    "The parser can save the output in various formats, including:\n",
    "  - CSV\n",
    "  - JSON\n",
    "  - Numpy array\n",
    "  - Pickle\n",
    "  - Text file\n",
    "\n",
    "> Note: You have to specify the location as well as the format when saving the output. The default format is CSV, but you can change it by passing the `format` argument to the `save` method. As far as location goes, you have to specify the full path, and create a directory if you wish to save all of the files in one place. **Nothing is done under the hood**. This could be a potential improvement, but I wanted to keep it simple for now..."
   ]
  },
  {
   "cell_type": "code",
   "execution_count": 11,
   "metadata": {},
   "outputs": [
    {
     "name": "stdout",
     "output_type": "stream",
     "text": [
      "Saved parsed data as txt to: parsed/lesions.txt\n",
      "Saved parsed data as csv to: parsed/lesions.csv\n",
      "Saved parsed data as json to: parsed/lesions.json\n",
      "Saved parsed data as pandas to: parsed/lesions.pkl\n",
      "Saved parsed data as numpy to: parsed/lesions.npy\n"
     ]
    }
   ],
   "source": [
    "dict_parser.save_as(\"parsed/lesions.txt\", \"txt\")\n",
    "dict_parser.save_as(\"parsed/lesions.csv\", \"csv\")\n",
    "dict_parser.save_as(\"parsed/lesions.json\", \"json\")\n",
    "dict_parser.save_as(\"parsed/lesions.pkl\", \"pandas\")\n",
    "dict_parser.save_as(\"parsed/lesions.npy\", \"numpy\")\n"
   ]
  },
  {
   "cell_type": "markdown",
   "metadata": {},
   "source": [
    "## Filtering"
   ]
  },
  {
   "cell_type": "code",
   "execution_count": 15,
   "metadata": {},
   "outputs": [
    {
     "name": "stdout",
     "output_type": "stream",
     "text": [
      "Valid types: ['Red_small_dots', 'Soft_exudates', 'Disc', 'Neovascularisation', 'Fundus_area', 'Hard_exudates', 'Haemorrhages', 'IRMA']\n",
      "Filtered parsed data to 30 entries with types: ['IRMA']\n"
     ]
    },
    {
     "data": {
      "text/html": [
       "<div>\n",
       "<style scoped>\n",
       "    .dataframe tbody tr th:only-of-type {\n",
       "        vertical-align: middle;\n",
       "    }\n",
       "\n",
       "    .dataframe tbody tr th {\n",
       "        vertical-align: top;\n",
       "    }\n",
       "\n",
       "    .dataframe thead th {\n",
       "        text-align: right;\n",
       "    }\n",
       "</style>\n",
       "<table border=\"1\" class=\"dataframe\">\n",
       "  <thead>\n",
       "    <tr style=\"text-align: right;\">\n",
       "      <th></th>\n",
       "      <th>image_path</th>\n",
       "      <th>image_id</th>\n",
       "      <th>xml_file</th>\n",
       "      <th>type</th>\n",
       "      <th>x</th>\n",
       "      <th>y</th>\n",
       "      <th>radius</th>\n",
       "    </tr>\n",
       "  </thead>\n",
       "  <tbody>\n",
       "    <tr>\n",
       "      <th>0</th>\n",
       "      <td>images/diaretdb1_image007.png</td>\n",
       "      <td>diaretdb1_image007</td>\n",
       "      <td>diaretdb1_image007_01_plain.xml</td>\n",
       "      <td>IRMA</td>\n",
       "      <td>513.0</td>\n",
       "      <td>795.0</td>\n",
       "      <td>86.0</td>\n",
       "    </tr>\n",
       "    <tr>\n",
       "      <th>1</th>\n",
       "      <td>images/diaretdb1_image007.png</td>\n",
       "      <td>diaretdb1_image007</td>\n",
       "      <td>diaretdb1_image007_01_plain.xml</td>\n",
       "      <td>IRMA</td>\n",
       "      <td>1076.0</td>\n",
       "      <td>103.0</td>\n",
       "      <td>43.0</td>\n",
       "    </tr>\n",
       "    <tr>\n",
       "      <th>2</th>\n",
       "      <td>images/diaretdb1_image007.png</td>\n",
       "      <td>diaretdb1_image007</td>\n",
       "      <td>diaretdb1_image007_01_plain.xml</td>\n",
       "      <td>IRMA</td>\n",
       "      <td>827.0</td>\n",
       "      <td>528.0</td>\n",
       "      <td>28.0</td>\n",
       "    </tr>\n",
       "    <tr>\n",
       "      <th>3</th>\n",
       "      <td>images/diaretdb1_image007.png</td>\n",
       "      <td>diaretdb1_image007</td>\n",
       "      <td>diaretdb1_image007_02_plain.xml</td>\n",
       "      <td>IRMA</td>\n",
       "      <td>494.0</td>\n",
       "      <td>787.0</td>\n",
       "      <td>NaN</td>\n",
       "    </tr>\n",
       "    <tr>\n",
       "      <th>4</th>\n",
       "      <td>images/diaretdb1_image007.png</td>\n",
       "      <td>diaretdb1_image007</td>\n",
       "      <td>diaretdb1_image007_02_plain.xml</td>\n",
       "      <td>IRMA</td>\n",
       "      <td>204.0</td>\n",
       "      <td>249.0</td>\n",
       "      <td>59.0</td>\n",
       "    </tr>\n",
       "  </tbody>\n",
       "</table>\n",
       "</div>"
      ],
      "text/plain": [
       "                      image_path            image_id  \\\n",
       "0  images/diaretdb1_image007.png  diaretdb1_image007   \n",
       "1  images/diaretdb1_image007.png  diaretdb1_image007   \n",
       "2  images/diaretdb1_image007.png  diaretdb1_image007   \n",
       "3  images/diaretdb1_image007.png  diaretdb1_image007   \n",
       "4  images/diaretdb1_image007.png  diaretdb1_image007   \n",
       "\n",
       "                          xml_file  type       x      y  radius  \n",
       "0  diaretdb1_image007_01_plain.xml  IRMA   513.0  795.0    86.0  \n",
       "1  diaretdb1_image007_01_plain.xml  IRMA  1076.0  103.0    43.0  \n",
       "2  diaretdb1_image007_01_plain.xml  IRMA   827.0  528.0    28.0  \n",
       "3  diaretdb1_image007_02_plain.xml  IRMA   494.0  787.0     NaN  \n",
       "4  diaretdb1_image007_02_plain.xml  IRMA   204.0  249.0    59.0  "
      ]
     },
     "execution_count": 15,
     "metadata": {},
     "output_type": "execute_result"
    }
   ],
   "source": [
    "print(\"Valid types:\", VALID_LESION_TYPES)\n",
    "dict_parser.filter_by_type(\"IRMA\")\n",
    "dict_parser.to_format(\"pandas\").head()\n"
   ]
  },
  {
   "cell_type": "markdown",
   "metadata": {},
   "source": [
    "The parser provides some basic filtering for types of lesions, which can be useful for quickly narrowing down the results. I kept this super simple for now, as I imagine most of us will be using built in functions (pandas, numpy, etc.) to filter the results anyway..."
   ]
  },
  {
   "cell_type": "markdown",
   "metadata": {},
   "source": [
    "## Caching\n",
    "\n",
    "The parser does some intermediate caching to avoid redundant calls to functions. This wasn't originally planned, but I thought it could be useful for larger datasets. The cache is stored in a dictionary, and you shouldn't access, but if you really need to, you can access it via the `_format_cache` attribute. You can also clear the cache using the `clear` method."
   ]
  },
  {
   "cell_type": "code",
   "execution_count": 16,
   "metadata": {},
   "outputs": [
    {
     "name": "stdout",
     "output_type": "stream",
     "text": [
      "Cleared parsed data and format cache.\n"
     ]
    }
   ],
   "source": [
    "dict_parser.clear()\n"
   ]
  },
  {
   "cell_type": "markdown",
   "metadata": {},
   "source": [
    "## Using Pandas"
   ]
  },
  {
   "cell_type": "code",
   "execution_count": 19,
   "metadata": {},
   "outputs": [
    {
     "name": "stdout",
     "output_type": "stream",
     "text": [
      "                      image_path            image_id  \\\n",
      "0  images/diaretdb1_image002.png  diaretdb1_image002   \n",
      "1  images/diaretdb1_image002.png  diaretdb1_image002   \n",
      "2  images/diaretdb1_image002.png  diaretdb1_image002   \n",
      "3  images/diaretdb1_image002.png  diaretdb1_image002   \n",
      "4  images/diaretdb1_image002.png  diaretdb1_image002   \n",
      "\n",
      "                          xml_file          type       x      y  radius  \n",
      "0  diaretdb1_image002_01_plain.xml  Haemorrhages   570.0  805.0    16.0  \n",
      "1  diaretdb1_image002_01_plain.xml  Haemorrhages   669.0  685.0    20.0  \n",
      "2  diaretdb1_image002_01_plain.xml  Haemorrhages   811.0  733.0    48.0  \n",
      "3  diaretdb1_image002_01_plain.xml  Haemorrhages   895.0  700.0     5.0  \n",
      "4  diaretdb1_image002_01_plain.xml  Haemorrhages  1054.0  716.0     5.0  \n"
     ]
    }
   ],
   "source": [
    "import pandas as pd\n",
    "# pandas_df from earlier\n",
    "\n",
    "# filter for haemorrhages\n",
    "haemorrhages = pandas_df[pandas_df['type'] == 'Haemorrhages']\n",
    "print(haemorrhages.head())\n"
   ]
  },
  {
   "cell_type": "code",
   "execution_count": 20,
   "metadata": {},
   "outputs": [
    {
     "name": "stdout",
     "output_type": "stream",
     "text": [
      "image_id\n",
      "diaretdb1_image021    307\n",
      "diaretdb1_image019    264\n",
      "diaretdb1_image015    238\n",
      "diaretdb1_image016    228\n",
      "diaretdb1_image067    216\n",
      "dtype: int64\n"
     ]
    }
   ],
   "source": [
    "# number of lesions per image\n",
    "lesions_per_image = pandas_df.groupby('image_id').size().sort_values(ascending=False)\n",
    "print(lesions_per_image.head())\n"
   ]
  },
  {
   "cell_type": "code",
   "execution_count": 21,
   "metadata": {},
   "outputs": [
    {
     "name": "stdout",
     "output_type": "stream",
     "text": [
      "type\n",
      "Disc                  106.964539\n",
      "Fundus_area            74.500000\n",
      "Neovascularisation     72.500000\n",
      "IRMA                   47.318182\n",
      "Hard_exudates          41.068376\n",
      "Soft_exudates          37.464789\n",
      "Haemorrhages           29.462158\n",
      "Red_small_dots          9.653253\n",
      "Name: radius, dtype: float64\n"
     ]
    }
   ],
   "source": [
    "# average lesion radius per type\n",
    "avg_radius = pandas_df.groupby('type')['radius'].mean()\n",
    "print(avg_radius.sort_values(ascending=False))\n"
   ]
  },
  {
   "cell_type": "markdown",
   "metadata": {},
   "source": [
    "## Using Numpy"
   ]
  },
  {
   "cell_type": "code",
   "execution_count": 27,
   "metadata": {},
   "outputs": [
    {
     "name": "stdout",
     "output_type": "stream",
     "text": [
      "[['images/diaretdb1_image002.png' 'diaretdb1_image002'\n",
      "  'diaretdb1_image002_01_plain.xml' 'Haemorrhages' 570.0 805.0 16.0]\n",
      " ['images/diaretdb1_image002.png' 'diaretdb1_image002'\n",
      "  'diaretdb1_image002_01_plain.xml' 'Haemorrhages' 669.0 685.0 20.0]\n",
      " ['images/diaretdb1_image002.png' 'diaretdb1_image002'\n",
      "  'diaretdb1_image002_01_plain.xml' 'Haemorrhages' 811.0 733.0 48.0]\n",
      " ['images/diaretdb1_image002.png' 'diaretdb1_image002'\n",
      "  'diaretdb1_image002_01_plain.xml' 'Haemorrhages' 895.0 700.0 5.0]\n",
      " ['images/diaretdb1_image002.png' 'diaretdb1_image002'\n",
      "  'diaretdb1_image002_01_plain.xml' 'Haemorrhages' 1054.0 716.0 5.0]]\n"
     ]
    }
   ],
   "source": [
    "import numpy as np\n",
    "\n",
    "# numpy_array from earlier\n",
    "\n",
    "xs = np.array([float(x) for x in numpy_array[:, 4]])\n",
    "ys = np.array([float(y) for y in numpy_array[:, 5]])\n",
    "\n",
    "# filter entries within a box\n",
    "mask = (xs > 500) & (ys < 1000)\n",
    "filtered = numpy_array[mask]\n",
    "\n",
    "print(filtered[:5])\n"
   ]
  },
  {
   "cell_type": "code",
   "execution_count": 26,
   "metadata": {},
   "outputs": [
    {
     "name": "stdout",
     "output_type": "stream",
     "text": [
      "Mean radius: 25.81, Std: 34.93\n"
     ]
    }
   ],
   "source": [
    "radii = np.array([float(r) if r is not None else np.nan for r in numpy_array[:, 6]])\n",
    "\n",
    "# compute stats\n",
    "mean_radius = np.nanmean(radii)\n",
    "std_radius = np.nanstd(radii)\n",
    "print(f\"Mean radius: {mean_radius:.2f}, Std: {std_radius:.2f}\")\n"
   ]
  }
 ],
 "metadata": {
  "kernelspec": {
   "display_name": "dr-arm",
   "language": "python",
   "name": "python3"
  },
  "language_info": {
   "codemirror_mode": {
    "name": "ipython",
    "version": 3
   },
   "file_extension": ".py",
   "mimetype": "text/x-python",
   "name": "python",
   "nbconvert_exporter": "python",
   "pygments_lexer": "ipython3",
   "version": "3.10.18"
  }
 },
 "nbformat": 4,
 "nbformat_minor": 2
}
